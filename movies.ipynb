{
 "cells": [
  {
   "cell_type": "code",
   "execution_count": 2,
   "metadata": {},
   "outputs": [],
   "source": [
    "import requests\n",
    "from bs4 import BeautifulSoup\n",
    "import pandas as pd\n",
    "import warnings\n",
    "warnings.filterwarnings(\"ignore\")"
   ]
  },
  {
   "cell_type": "code",
   "execution_count": 3,
   "metadata": {},
   "outputs": [],
   "source": [
    "url = \"https://www.imdb.com/list/ls566941243/\"\n",
    "response = requests.get(url)"
   ]
  },
  {
   "cell_type": "code",
   "execution_count": 4,
   "metadata": {},
   "outputs": [],
   "source": [
    "soup = BeautifulSoup(response.text, \"html\")"
   ]
  },
  {
   "cell_type": "code",
   "execution_count": 5,
   "metadata": {},
   "outputs": [
    {
     "name": "stdout",
     "output_type": "stream",
     "text": [
      "Soup has been extracted to imdb.txt.\n"
     ]
    }
   ],
   "source": [
    "with open(\"imdb.txt\", \"w\", encoding=\"UTF-8\") as file:\n",
    "    file.write(str(soup))\n",
    "print(\"Soup has been extracted to imdb.txt.\")"
   ]
  },
  {
   "cell_type": "code",
   "execution_count": 23,
   "metadata": {},
   "outputs": [],
   "source": [
    "movies_data = []\n",
    "for movie in soup.find_all(\"div\", class_=\"lister-item-content\"):\n",
    "    title = movie.find(\"a\").text # Movie Titles for all in the page\n",
    "    genre = movie.find(\"span\", class_=\"genre\").text.strip() # Genre of the movies\n",
    "    stars = movie.find(\"div\", class_=\"ipl-rating-star\").find(\"span\", class_='ipl-rating-star__rating').text # Star rating of the movie\n",
    "    runtime = movie.find(\"span\", class_=\"runtime\").text # Duration of the Movie\n",
    "    meta_div = movie.find(\"div\", class_=\"inline-block ratings-metascore\") # Metascore Division\n",
    "\n",
    "    if meta_div:\n",
    "        '''\n",
    "        This is to extract the metascores of each movie if the meta division is found for the movie, if not the \n",
    "        metascore is set to \"N/A\"\n",
    "        '''\n",
    "        found_span = meta_div.find(\"span\", class_=\"metascore mixed\")\n",
    "        if found_span:\n",
    "            metascore = found_span.text\n",
    "        else:\n",
    "            metascore = \"N/A\"\n",
    "    else:\n",
    "        metascore = \"N/A\"\n",
    "\n",
    "    votes = movie.find(\"span\", text=\"Votes:\").find_next(\"span\").text # Votes given for the movie\n",
    "\n",
    "    gross_element = movie.find('span', text='Gross:')\n",
    "    gross_value = gross_element.find_next('span').text if gross_element else \"N/A\" # The gross value of a movie in USD, N/A if not found.\n",
    "    # gross_value = movie.find('span', text='Gross:').find_next('span').text\n",
    "    movies_data.append([title, genre, stars, runtime, metascore, votes, gross_value])"
   ]
  },
  {
   "cell_type": "code",
   "execution_count": 24,
   "metadata": {},
   "outputs": [
    {
     "data": {
      "text/html": [
       "<div>\n",
       "<style scoped>\n",
       "    .dataframe tbody tr th:only-of-type {\n",
       "        vertical-align: middle;\n",
       "    }\n",
       "\n",
       "    .dataframe tbody tr th {\n",
       "        vertical-align: top;\n",
       "    }\n",
       "\n",
       "    .dataframe thead th {\n",
       "        text-align: right;\n",
       "    }\n",
       "</style>\n",
       "<table border=\"1\" class=\"dataframe\">\n",
       "  <thead>\n",
       "    <tr style=\"text-align: right;\">\n",
       "      <th></th>\n",
       "      <th>Title</th>\n",
       "      <th>Genre</th>\n",
       "      <th>Stars</th>\n",
       "      <th>Runtime</th>\n",
       "      <th>MetaScore</th>\n",
       "      <th>Votes</th>\n",
       "      <th>Gross_value</th>\n",
       "    </tr>\n",
       "  </thead>\n",
       "  <tbody>\n",
       "    <tr>\n",
       "      <th>0</th>\n",
       "      <td>Bullet Train</td>\n",
       "      <td>Action, Comedy, Thriller</td>\n",
       "      <td>7.3</td>\n",
       "      <td>127 min</td>\n",
       "      <td>49</td>\n",
       "      <td>424,602</td>\n",
       "      <td>$103.37M</td>\n",
       "    </tr>\n",
       "    <tr>\n",
       "      <th>1</th>\n",
       "      <td>Emancipation</td>\n",
       "      <td>Action, Thriller</td>\n",
       "      <td>6.2</td>\n",
       "      <td>132 min</td>\n",
       "      <td>53</td>\n",
       "      <td>27,028</td>\n",
       "      <td>N/A</td>\n",
       "    </tr>\n",
       "    <tr>\n",
       "      <th>2</th>\n",
       "      <td>Violent Night</td>\n",
       "      <td>Action, Comedy, Thriller</td>\n",
       "      <td>6.7</td>\n",
       "      <td>112 min</td>\n",
       "      <td>55</td>\n",
       "      <td>98,771</td>\n",
       "      <td>$50.06M</td>\n",
       "    </tr>\n",
       "    <tr>\n",
       "      <th>3</th>\n",
       "      <td>Top Gun: Maverick</td>\n",
       "      <td>Action, Drama</td>\n",
       "      <td>8.2</td>\n",
       "      <td>130 min</td>\n",
       "      <td>N/A</td>\n",
       "      <td>692,609</td>\n",
       "      <td>$718.73M</td>\n",
       "    </tr>\n",
       "    <tr>\n",
       "      <th>4</th>\n",
       "      <td>The Batman</td>\n",
       "      <td>Action, Crime, Drama</td>\n",
       "      <td>7.8</td>\n",
       "      <td>176 min</td>\n",
       "      <td>N/A</td>\n",
       "      <td>784,287</td>\n",
       "      <td>$369.35M</td>\n",
       "    </tr>\n",
       "  </tbody>\n",
       "</table>\n",
       "</div>"
      ],
      "text/plain": [
       "               Title                     Genre Stars  Runtime   MetaScore  \\\n",
       "0       Bullet Train  Action, Comedy, Thriller   7.3  127 min  49           \n",
       "1       Emancipation          Action, Thriller   6.2  132 min  53           \n",
       "2      Violent Night  Action, Comedy, Thriller   6.7  112 min  55           \n",
       "3  Top Gun: Maverick             Action, Drama   8.2  130 min         N/A   \n",
       "4         The Batman      Action, Crime, Drama   7.8  176 min         N/A   \n",
       "\n",
       "     Votes Gross_value  \n",
       "0  424,602    $103.37M  \n",
       "1   27,028         N/A  \n",
       "2   98,771     $50.06M  \n",
       "3  692,609    $718.73M  \n",
       "4  784,287    $369.35M  "
      ]
     },
     "execution_count": 24,
     "metadata": {},
     "output_type": "execute_result"
    }
   ],
   "source": [
    "df = pd.DataFrame(movies_data, columns = [\"Title\", \"Genre\", \"Stars\", \"Runtime\", \"MetaScore\", \"Votes\", \"Gross_value\"])\n",
    "df.head()"
   ]
  },
  {
   "cell_type": "code",
   "execution_count": 25,
   "metadata": {},
   "outputs": [],
   "source": [
    "df.to_csv(\"movies.csv\", index=False)"
   ]
  },
  {
   "cell_type": "code",
   "execution_count": 26,
   "metadata": {},
   "outputs": [
    {
     "name": "stdout",
     "output_type": "stream",
     "text": [
      "Shape:  (100, 7)\n"
     ]
    }
   ],
   "source": [
    "print(\"Shape: \",df.shape)"
   ]
  },
  {
   "cell_type": "code",
   "execution_count": 27,
   "metadata": {},
   "outputs": [
    {
     "data": {
      "text/html": [
       "<div>\n",
       "<style scoped>\n",
       "    .dataframe tbody tr th:only-of-type {\n",
       "        vertical-align: middle;\n",
       "    }\n",
       "\n",
       "    .dataframe tbody tr th {\n",
       "        vertical-align: top;\n",
       "    }\n",
       "\n",
       "    .dataframe thead th {\n",
       "        text-align: right;\n",
       "    }\n",
       "</style>\n",
       "<table border=\"1\" class=\"dataframe\">\n",
       "  <thead>\n",
       "    <tr style=\"text-align: right;\">\n",
       "      <th></th>\n",
       "      <th>Title</th>\n",
       "      <th>Genre</th>\n",
       "      <th>Stars</th>\n",
       "      <th>Runtime</th>\n",
       "      <th>MetaScore</th>\n",
       "      <th>Votes</th>\n",
       "      <th>Gross_value</th>\n",
       "    </tr>\n",
       "  </thead>\n",
       "  <tbody>\n",
       "    <tr>\n",
       "      <th>count</th>\n",
       "      <td>100</td>\n",
       "      <td>100</td>\n",
       "      <td>100</td>\n",
       "      <td>100</td>\n",
       "      <td>100</td>\n",
       "      <td>100</td>\n",
       "      <td>100</td>\n",
       "    </tr>\n",
       "    <tr>\n",
       "      <th>unique</th>\n",
       "      <td>100</td>\n",
       "      <td>32</td>\n",
       "      <td>44</td>\n",
       "      <td>42</td>\n",
       "      <td>14</td>\n",
       "      <td>100</td>\n",
       "      <td>8</td>\n",
       "    </tr>\n",
       "    <tr>\n",
       "      <th>top</th>\n",
       "      <td>Bullet Train</td>\n",
       "      <td>Action, Thriller</td>\n",
       "      <td>3.7</td>\n",
       "      <td>96 min</td>\n",
       "      <td>N/A</td>\n",
       "      <td>424,602</td>\n",
       "      <td>N/A</td>\n",
       "    </tr>\n",
       "    <tr>\n",
       "      <th>freq</th>\n",
       "      <td>1</td>\n",
       "      <td>23</td>\n",
       "      <td>9</td>\n",
       "      <td>7</td>\n",
       "      <td>78</td>\n",
       "      <td>1</td>\n",
       "      <td>93</td>\n",
       "    </tr>\n",
       "  </tbody>\n",
       "</table>\n",
       "</div>"
      ],
      "text/plain": [
       "               Title             Genre Stars Runtime MetaScore    Votes  \\\n",
       "count            100               100   100     100       100      100   \n",
       "unique           100                32    44      42        14      100   \n",
       "top     Bullet Train  Action, Thriller   3.7  96 min       N/A  424,602   \n",
       "freq               1                23     9       7        78        1   \n",
       "\n",
       "       Gross_value  \n",
       "count          100  \n",
       "unique           8  \n",
       "top            N/A  \n",
       "freq            93  "
      ]
     },
     "execution_count": 27,
     "metadata": {},
     "output_type": "execute_result"
    }
   ],
   "source": [
    "df.describe(include=\"all\")"
   ]
  }
 ],
 "metadata": {
  "kernelspec": {
   "display_name": "Python 3",
   "language": "python",
   "name": "python3"
  },
  "language_info": {
   "codemirror_mode": {
    "name": "ipython",
    "version": 3
   },
   "file_extension": ".py",
   "mimetype": "text/x-python",
   "name": "python",
   "nbconvert_exporter": "python",
   "pygments_lexer": "ipython3",
   "version": "3.12.2"
  }
 },
 "nbformat": 4,
 "nbformat_minor": 2
}
