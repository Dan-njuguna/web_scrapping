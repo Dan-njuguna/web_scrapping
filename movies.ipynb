{
 "cells": [
  {
   "cell_type": "code",
   "execution_count": 23,
   "metadata": {},
   "outputs": [],
   "source": [
    "import requests\n",
    "from bs4 import BeautifulSoup\n",
    "import pandas as pd\n",
    "import warnings\n",
    "warnings.filterwarnings(\"ignore\")"
   ]
  },
  {
   "cell_type": "code",
   "execution_count": 3,
   "metadata": {},
   "outputs": [],
   "source": [
    "url = \"https://www.imdb.com/list/ls566941243/\"\n",
    "response = requests.get(url)"
   ]
  },
  {
   "cell_type": "code",
   "execution_count": 4,
   "metadata": {},
   "outputs": [],
   "source": [
    "soup = BeautifulSoup(response.text, \"html\")"
   ]
  },
  {
   "cell_type": "code",
   "execution_count": 5,
   "metadata": {},
   "outputs": [
    {
     "name": "stdout",
     "output_type": "stream",
     "text": [
      "Soup has been extracted to imdb.txt.\n"
     ]
    }
   ],
   "source": [
    "with open(\"imdb.txt\", \"w\", encoding=\"UTF-8\") as file:\n",
    "    file.write(str(soup))\n",
    "print(\"Soup has been extracted to imdb.txt.\")"
   ]
  },
  {
   "cell_type": "code",
   "execution_count": 24,
   "metadata": {},
   "outputs": [],
   "source": [
    "movies_data = []\n",
    "for movie in soup.find_all(\"div\", class_=\"lister-item-content\"):\n",
    "    title = movie.find(\"a\").text\n",
    "    genre = movie.find(\"span\", class_=\"genre\").text.strip()\n",
    "    stars = movie.find(\"div\", class_=\"ipl-rating-star\").find(\"span\", class_='ipl-rating-star__rating').text\n",
    "    runtime = movie.find(\"span\", class_=\"runtime\").text\n",
    "    rating = movie.find(\"span\", class_=\"ipl-rating-star__rating\").text\n",
    "    metascore = movie.find(\"span\", class_=\"metascore favourable\") and movie.find(\"span\", class_=\"metascore favourable\").text or None\n",
    "    votes = movie.find(\"span\", text=\"Votes:\").find_next(\"span\").text\n",
    "\n",
    "    gross_element = movie.find('span', text='Gross:')\n",
    "    gross_value = gross_element.find_next('span').text if gross_element else \"N/A\"\n",
    "    # gross_value = movie.find('span', text='Gross:').find_next('span').text\n",
    "    movies_data.append([title, genre, stars, runtime, rating, metascore, votes, gross_value])"
   ]
  },
  {
   "cell_type": "code",
   "execution_count": 30,
   "metadata": {},
   "outputs": [
    {
     "data": {
      "text/html": [
       "<div>\n",
       "<style scoped>\n",
       "    .dataframe tbody tr th:only-of-type {\n",
       "        vertical-align: middle;\n",
       "    }\n",
       "\n",
       "    .dataframe tbody tr th {\n",
       "        vertical-align: top;\n",
       "    }\n",
       "\n",
       "    .dataframe thead th {\n",
       "        text-align: right;\n",
       "    }\n",
       "</style>\n",
       "<table border=\"1\" class=\"dataframe\">\n",
       "  <thead>\n",
       "    <tr style=\"text-align: right;\">\n",
       "      <th></th>\n",
       "      <th>Title</th>\n",
       "      <th>Genre</th>\n",
       "      <th>Stars</th>\n",
       "      <th>Runtime</th>\n",
       "      <th>Rating</th>\n",
       "      <th>MetaScore</th>\n",
       "      <th>Votes</th>\n",
       "      <th>Gross_value</th>\n",
       "    </tr>\n",
       "  </thead>\n",
       "  <tbody>\n",
       "    <tr>\n",
       "      <th>0</th>\n",
       "      <td>Bullet Train</td>\n",
       "      <td>Action, Comedy, Thriller</td>\n",
       "      <td>7.3</td>\n",
       "      <td>127 min</td>\n",
       "      <td>7.3</td>\n",
       "      <td>None</td>\n",
       "      <td>424,602</td>\n",
       "      <td>$103.37M</td>\n",
       "    </tr>\n",
       "    <tr>\n",
       "      <th>1</th>\n",
       "      <td>Emancipation</td>\n",
       "      <td>Action, Thriller</td>\n",
       "      <td>6.2</td>\n",
       "      <td>132 min</td>\n",
       "      <td>6.2</td>\n",
       "      <td>None</td>\n",
       "      <td>27,028</td>\n",
       "      <td>N/A</td>\n",
       "    </tr>\n",
       "    <tr>\n",
       "      <th>2</th>\n",
       "      <td>Violent Night</td>\n",
       "      <td>Action, Comedy, Thriller</td>\n",
       "      <td>6.7</td>\n",
       "      <td>112 min</td>\n",
       "      <td>6.7</td>\n",
       "      <td>None</td>\n",
       "      <td>98,771</td>\n",
       "      <td>$50.06M</td>\n",
       "    </tr>\n",
       "    <tr>\n",
       "      <th>3</th>\n",
       "      <td>Top Gun: Maverick</td>\n",
       "      <td>Action, Drama</td>\n",
       "      <td>8.2</td>\n",
       "      <td>130 min</td>\n",
       "      <td>8.2</td>\n",
       "      <td>None</td>\n",
       "      <td>692,609</td>\n",
       "      <td>$718.73M</td>\n",
       "    </tr>\n",
       "    <tr>\n",
       "      <th>4</th>\n",
       "      <td>The Batman</td>\n",
       "      <td>Action, Crime, Drama</td>\n",
       "      <td>7.8</td>\n",
       "      <td>176 min</td>\n",
       "      <td>7.8</td>\n",
       "      <td>None</td>\n",
       "      <td>784,287</td>\n",
       "      <td>$369.35M</td>\n",
       "    </tr>\n",
       "  </tbody>\n",
       "</table>\n",
       "</div>"
      ],
      "text/plain": [
       "               Title                     Genre Stars  Runtime Rating  \\\n",
       "0       Bullet Train  Action, Comedy, Thriller   7.3  127 min    7.3   \n",
       "1       Emancipation          Action, Thriller   6.2  132 min    6.2   \n",
       "2      Violent Night  Action, Comedy, Thriller   6.7  112 min    6.7   \n",
       "3  Top Gun: Maverick             Action, Drama   8.2  130 min    8.2   \n",
       "4         The Batman      Action, Crime, Drama   7.8  176 min    7.8   \n",
       "\n",
       "  MetaScore    Votes Gross_value  \n",
       "0      None  424,602    $103.37M  \n",
       "1      None   27,028         N/A  \n",
       "2      None   98,771     $50.06M  \n",
       "3      None  692,609    $718.73M  \n",
       "4      None  784,287    $369.35M  "
      ]
     },
     "execution_count": 30,
     "metadata": {},
     "output_type": "execute_result"
    }
   ],
   "source": [
    "df = pd.DataFrame(movies_data, columns = [\"Title\", \"Genre\", \"Stars\", \"Runtime\", \"Rating\", \"MetaScore\", \"Votes\", \"Gross_value\"])\n",
    "df.head()"
   ]
  },
  {
   "cell_type": "code",
   "execution_count": 31,
   "metadata": {},
   "outputs": [],
   "source": [
    "df = df.drop([\"MetaScore\"], axis=1)\n",
    "df.to_csv(\"movies.csv\", index=False)"
   ]
  },
  {
   "cell_type": "code",
   "execution_count": 32,
   "metadata": {},
   "outputs": [
    {
     "name": "stdout",
     "output_type": "stream",
     "text": [
      "Shape:  (100, 7)\n"
     ]
    }
   ],
   "source": [
    "print(\"Shape: \",df.shape)"
   ]
  }
 ],
 "metadata": {
  "kernelspec": {
   "display_name": "Python 3",
   "language": "python",
   "name": "python3"
  },
  "language_info": {
   "codemirror_mode": {
    "name": "ipython",
    "version": 3
   },
   "file_extension": ".py",
   "mimetype": "text/x-python",
   "name": "python",
   "nbconvert_exporter": "python",
   "pygments_lexer": "ipython3",
   "version": "3.12.2"
  }
 },
 "nbformat": 4,
 "nbformat_minor": 2
}
