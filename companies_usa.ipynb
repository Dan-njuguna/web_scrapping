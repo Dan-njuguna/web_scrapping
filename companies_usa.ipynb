{
 "cells": [
  {
   "cell_type": "code",
   "execution_count": 2,
   "metadata": {},
   "outputs": [],
   "source": [
    "import requests\n",
    "from bs4 import BeautifulSoup\n",
    "import pandas as pd"
   ]
  },
  {
   "cell_type": "code",
   "execution_count": 3,
   "metadata": {},
   "outputs": [],
   "source": [
    "url = \"https://stockanalysis.com/list/highest-revenue/\"\n",
    "response = requests.get(url)"
   ]
  },
  {
   "cell_type": "code",
   "execution_count": 4,
   "metadata": {},
   "outputs": [
    {
     "name": "stdout",
     "output_type": "stream",
     "text": [
      "Stock analysis html saves as stockanalysis.txt\n"
     ]
    }
   ],
   "source": [
    "inform = BeautifulSoup(response.text, \"html\")\n",
    "\n",
    "with open(\"stockanalysis.txt\", \"w\", encoding = 'utf-8') as file:\n",
    "    file.write(str(inform))\n",
    "print(\"Stock analysis html saves as stockanalysis.txt\")"
   ]
  },
  {
   "cell_type": "code",
   "execution_count": 5,
   "metadata": {},
   "outputs": [],
   "source": [
    "try:\n",
    "    if inform:\n",
    "        titles = inform.find_all(\"th\")\n",
    "    else:\n",
    "        print(\"Table not found.\")\n",
    "except AttributeError:\n",
    "    print(\"AttributeError found.\")"
   ]
  },
  {
   "cell_type": "code",
   "execution_count": 6,
   "metadata": {},
   "outputs": [
    {
     "data": {
      "text/plain": [
       "['No.',\n",
       " 'Symbol',\n",
       " 'Company Name',\n",
       " 'Revenue',\n",
       " 'Stock Price',\n",
       " '% Change',\n",
       " 'Market Cap']"
      ]
     },
     "execution_count": 6,
     "metadata": {},
     "output_type": "execute_result"
    }
   ],
   "source": [
    "title = [tt.text.strip() for tt in titles]\n",
    "title"
   ]
  },
  {
   "cell_type": "code",
   "execution_count": 7,
   "metadata": {},
   "outputs": [
    {
     "data": {
      "text/html": [
       "<div>\n",
       "<style scoped>\n",
       "    .dataframe tbody tr th:only-of-type {\n",
       "        vertical-align: middle;\n",
       "    }\n",
       "\n",
       "    .dataframe tbody tr th {\n",
       "        vertical-align: top;\n",
       "    }\n",
       "\n",
       "    .dataframe thead th {\n",
       "        text-align: right;\n",
       "    }\n",
       "</style>\n",
       "<table border=\"1\" class=\"dataframe\">\n",
       "  <thead>\n",
       "    <tr style=\"text-align: right;\">\n",
       "      <th></th>\n",
       "      <th>No.</th>\n",
       "      <th>Symbol</th>\n",
       "      <th>Company Name</th>\n",
       "      <th>Revenue</th>\n",
       "      <th>Stock Price</th>\n",
       "      <th>% Change</th>\n",
       "      <th>Market Cap</th>\n",
       "    </tr>\n",
       "  </thead>\n",
       "  <tbody>\n",
       "  </tbody>\n",
       "</table>\n",
       "</div>"
      ],
      "text/plain": [
       "Empty DataFrame\n",
       "Columns: [No., Symbol, Company Name, Revenue, Stock Price, % Change, Market Cap]\n",
       "Index: []"
      ]
     },
     "execution_count": 7,
     "metadata": {},
     "output_type": "execute_result"
    }
   ],
   "source": [
    "df = pd.DataFrame(columns=title)\n",
    "df"
   ]
  },
  {
   "cell_type": "code",
   "execution_count": 8,
   "metadata": {},
   "outputs": [],
   "source": [
    "rows = inform.find_all(\"tr\")\n",
    "all_table_data = []\n",
    "for row in rows[1:]:\n",
    "    row_data = row.find_all(\"td\")\n",
    "    clean_row_data = [data.text.strip() for data in row_data]\n",
    "    all_table_data.append(clean_row_data)"
   ]
  },
  {
   "cell_type": "code",
   "execution_count": 9,
   "metadata": {},
   "outputs": [],
   "source": [
    "df = pd.DataFrame(all_table_data, columns=title)"
   ]
  },
  {
   "cell_type": "code",
   "execution_count": 10,
   "metadata": {},
   "outputs": [
    {
     "data": {
      "text/html": [
       "<div>\n",
       "<style scoped>\n",
       "    .dataframe tbody tr th:only-of-type {\n",
       "        vertical-align: middle;\n",
       "    }\n",
       "\n",
       "    .dataframe tbody tr th {\n",
       "        vertical-align: top;\n",
       "    }\n",
       "\n",
       "    .dataframe thead th {\n",
       "        text-align: right;\n",
       "    }\n",
       "</style>\n",
       "<table border=\"1\" class=\"dataframe\">\n",
       "  <thead>\n",
       "    <tr style=\"text-align: right;\">\n",
       "      <th></th>\n",
       "      <th>No.</th>\n",
       "      <th>Symbol</th>\n",
       "      <th>Company Name</th>\n",
       "      <th>Revenue</th>\n",
       "      <th>Stock Price</th>\n",
       "      <th>% Change</th>\n",
       "      <th>Market Cap</th>\n",
       "    </tr>\n",
       "  </thead>\n",
       "  <tbody>\n",
       "    <tr>\n",
       "      <th>0</th>\n",
       "      <td>1</td>\n",
       "      <td>WMT</td>\n",
       "      <td>Walmart Inc.</td>\n",
       "      <td>648.13B</td>\n",
       "      <td>60.14</td>\n",
       "      <td>0.08%</td>\n",
       "      <td>484.29B</td>\n",
       "    </tr>\n",
       "    <tr>\n",
       "      <th>1</th>\n",
       "      <td>2</td>\n",
       "      <td>AMZN</td>\n",
       "      <td>Amazon.com, Inc.</td>\n",
       "      <td>574.79B</td>\n",
       "      <td>186.13</td>\n",
       "      <td>-1.54%</td>\n",
       "      <td>1,933.41B</td>\n",
       "    </tr>\n",
       "    <tr>\n",
       "      <th>2</th>\n",
       "      <td>3</td>\n",
       "      <td>BRK.B</td>\n",
       "      <td>Berkshire Hathaway Inc.</td>\n",
       "      <td>439.34B</td>\n",
       "      <td>403.26</td>\n",
       "      <td>-1.07%</td>\n",
       "      <td>872.57B</td>\n",
       "    </tr>\n",
       "    <tr>\n",
       "      <th>3</th>\n",
       "      <td>4</td>\n",
       "      <td>AAPL</td>\n",
       "      <td>Apple Inc</td>\n",
       "      <td>385.71B</td>\n",
       "      <td>176.55</td>\n",
       "      <td>0.86%</td>\n",
       "      <td>2,726.27B</td>\n",
       "    </tr>\n",
       "    <tr>\n",
       "      <th>4</th>\n",
       "      <td>5</td>\n",
       "      <td>UNH</td>\n",
       "      <td>UnitedHealth Group Incorporated</td>\n",
       "      <td>371.62B</td>\n",
       "      <td>439.20</td>\n",
       "      <td>-0.57%</td>\n",
       "      <td>404.91B</td>\n",
       "    </tr>\n",
       "  </tbody>\n",
       "</table>\n",
       "</div>"
      ],
      "text/plain": [
       "  No. Symbol                     Company Name  Revenue Stock Price % Change  \\\n",
       "0   1    WMT                     Walmart Inc.  648.13B       60.14    0.08%   \n",
       "1   2   AMZN                 Amazon.com, Inc.  574.79B      186.13   -1.54%   \n",
       "2   3  BRK.B          Berkshire Hathaway Inc.  439.34B      403.26   -1.07%   \n",
       "3   4   AAPL                        Apple Inc  385.71B      176.55    0.86%   \n",
       "4   5    UNH  UnitedHealth Group Incorporated  371.62B      439.20   -0.57%   \n",
       "\n",
       "  Market Cap  \n",
       "0    484.29B  \n",
       "1  1,933.41B  \n",
       "2    872.57B  \n",
       "3  2,726.27B  \n",
       "4    404.91B  "
      ]
     },
     "execution_count": 10,
     "metadata": {},
     "output_type": "execute_result"
    }
   ],
   "source": [
    "df.head()"
   ]
  },
  {
   "cell_type": "code",
   "execution_count": 11,
   "metadata": {},
   "outputs": [],
   "source": [
    "df.to_csv(\"companies_usa.csv\", index=False)"
   ]
  }
 ],
 "metadata": {
  "kernelspec": {
   "display_name": "Python 3",
   "language": "python",
   "name": "python3"
  },
  "language_info": {
   "codemirror_mode": {
    "name": "ipython",
    "version": 3
   },
   "file_extension": ".py",
   "mimetype": "text/x-python",
   "name": "python",
   "nbconvert_exporter": "python",
   "pygments_lexer": "ipython3",
   "version": "3.12.2"
  }
 },
 "nbformat": 4,
 "nbformat_minor": 2
}
