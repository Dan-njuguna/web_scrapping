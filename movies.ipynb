{
 "cells": [
  {
   "cell_type": "code",
   "execution_count": 3,
   "metadata": {},
   "outputs": [],
   "source": [
    "import requests\n",
    "from bs4 import BeautifulSoup\n",
    "import pandas as pd"
   ]
  },
  {
   "cell_type": "code",
   "execution_count": 4,
   "metadata": {},
   "outputs": [],
   "source": [
    "url = \"https://www.imdb.com/list/ls566941243/\"\n",
    "response = requests.get(url)"
   ]
  },
  {
   "cell_type": "code",
   "execution_count": 5,
   "metadata": {},
   "outputs": [],
   "source": [
    "soup = BeautifulSoup(response.text, \"html\")"
   ]
  },
  {
   "cell_type": "code",
   "execution_count": 6,
   "metadata": {},
   "outputs": [
    {
     "name": "stdout",
     "output_type": "stream",
     "text": [
      "Soup has been extracted to imdb.txt.\n"
     ]
    }
   ],
   "source": [
    "with open(\"imdb.txt\", \"w\", encoding=\"UTF-8\") as file:\n",
    "    file.write(str(soup))\n",
    "print(\"Soup has been extracted to imdb.txt.\")"
   ]
  },
  {
   "cell_type": "code",
   "execution_count": 7,
   "metadata": {},
   "outputs": [],
   "source": [
    "movies_data = []\n",
    "for movie in soup.find_all(\"div\", class_=\"lister-item-content\"):\n",
    "    title = movie.find(\"a\").text\n",
    "    genre = movie.find(\"span\", class_=\"genre\").text.strip()\n",
    "    stars = movie.find(\"div\", class_=\"ipl-rating-star\").find(\"span\", class_='ipl-rating-star__rating').text\n",
    "    runtime = movie.find(\"span\", class_=\"runtime\").text\n",
    "    rating = movie.find(\"span\", class_=\"ipl-rating-star__rating\").text\n",
    "    movies_data.append([title, genre, stars, runtime, rating])"
   ]
  },
  {
   "cell_type": "code",
   "execution_count": 8,
   "metadata": {},
   "outputs": [
    {
     "data": {
      "text/html": [
       "<div>\n",
       "<style scoped>\n",
       "    .dataframe tbody tr th:only-of-type {\n",
       "        vertical-align: middle;\n",
       "    }\n",
       "\n",
       "    .dataframe tbody tr th {\n",
       "        vertical-align: top;\n",
       "    }\n",
       "\n",
       "    .dataframe thead th {\n",
       "        text-align: right;\n",
       "    }\n",
       "</style>\n",
       "<table border=\"1\" class=\"dataframe\">\n",
       "  <thead>\n",
       "    <tr style=\"text-align: right;\">\n",
       "      <th></th>\n",
       "      <th>Title</th>\n",
       "      <th>Genre</th>\n",
       "      <th>Stars</th>\n",
       "      <th>Runtime</th>\n",
       "      <th>Rating</th>\n",
       "    </tr>\n",
       "  </thead>\n",
       "  <tbody>\n",
       "    <tr>\n",
       "      <th>0</th>\n",
       "      <td>Bullet Train</td>\n",
       "      <td>Action, Comedy, Thriller</td>\n",
       "      <td>7.3</td>\n",
       "      <td>127 min</td>\n",
       "      <td>7.3</td>\n",
       "    </tr>\n",
       "    <tr>\n",
       "      <th>1</th>\n",
       "      <td>Emancipation</td>\n",
       "      <td>Action, Thriller</td>\n",
       "      <td>6.2</td>\n",
       "      <td>132 min</td>\n",
       "      <td>6.2</td>\n",
       "    </tr>\n",
       "    <tr>\n",
       "      <th>2</th>\n",
       "      <td>Violent Night</td>\n",
       "      <td>Action, Comedy, Thriller</td>\n",
       "      <td>6.7</td>\n",
       "      <td>112 min</td>\n",
       "      <td>6.7</td>\n",
       "    </tr>\n",
       "    <tr>\n",
       "      <th>3</th>\n",
       "      <td>Top Gun: Maverick</td>\n",
       "      <td>Action, Drama</td>\n",
       "      <td>8.2</td>\n",
       "      <td>130 min</td>\n",
       "      <td>8.2</td>\n",
       "    </tr>\n",
       "    <tr>\n",
       "      <th>4</th>\n",
       "      <td>The Batman</td>\n",
       "      <td>Action, Crime, Drama</td>\n",
       "      <td>7.8</td>\n",
       "      <td>176 min</td>\n",
       "      <td>7.8</td>\n",
       "    </tr>\n",
       "  </tbody>\n",
       "</table>\n",
       "</div>"
      ],
      "text/plain": [
       "               Title                     Genre Stars  Runtime Rating\n",
       "0       Bullet Train  Action, Comedy, Thriller   7.3  127 min    7.3\n",
       "1       Emancipation          Action, Thriller   6.2  132 min    6.2\n",
       "2      Violent Night  Action, Comedy, Thriller   6.7  112 min    6.7\n",
       "3  Top Gun: Maverick             Action, Drama   8.2  130 min    8.2\n",
       "4         The Batman      Action, Crime, Drama   7.8  176 min    7.8"
      ]
     },
     "execution_count": 8,
     "metadata": {},
     "output_type": "execute_result"
    }
   ],
   "source": [
    "df = pd.DataFrame(movies_data, columns = [\"Title\", \"Genre\", \"Stars\", \"Runtime\", \"Rating\"])\n",
    "df.head()"
   ]
  },
  {
   "cell_type": "code",
   "execution_count": 9,
   "metadata": {},
   "outputs": [],
   "source": [
    "df.to_csv(\"movies.csv\", index=False)"
   ]
  }
 ],
 "metadata": {
  "kernelspec": {
   "display_name": "Python 3",
   "language": "python",
   "name": "python3"
  },
  "language_info": {
   "codemirror_mode": {
    "name": "ipython",
    "version": 3
   },
   "file_extension": ".py",
   "mimetype": "text/x-python",
   "name": "python",
   "nbconvert_exporter": "python",
   "pygments_lexer": "ipython3",
   "version": "3.12.2"
  }
 },
 "nbformat": 4,
 "nbformat_minor": 2
}
